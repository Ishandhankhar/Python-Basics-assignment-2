{
 "cells": [
  {
   "cell_type": "markdown",
   "id": "839524f3",
   "metadata": {},
   "source": [
    "1. Create the below pattern using nested for loop in Python.\n",
    "        *\n",
    "        * *\n",
    "        * * *\n",
    "        * * * *\n",
    "        * * * * *\n",
    "        * * * *\n",
    "        * * *\n",
    "        * *\n",
    "        *\n"
   ]
  },
  {
   "cell_type": "code",
   "execution_count": 6,
   "id": "77bb45c5",
   "metadata": {},
   "outputs": [
    {
     "name": "stdout",
     "output_type": "stream",
     "text": [
      "* \r\n",
      "* * \r\n",
      "* * * \r\n",
      "* * * * \r\n",
      "* * * * * \r\n",
      "* * * * \r\n",
      "* * * \r\n",
      "* * \r\n",
      "* \r\n",
      "\r\n"
     ]
    }
   ],
   "source": [
    "for i in range(1,6):\n",
    "    for j in range(1,i+1):\n",
    "        print('*',end = ' ')\n",
    "    print('\\r')\n",
    "    \n",
    "for k in range(5,0,-1):\n",
    "    for j in range(1,k):\n",
    "        print('*', end=' ')\n",
    "    print('\\r')"
   ]
  },
  {
   "cell_type": "markdown",
   "id": "5decb3cf",
   "metadata": {},
   "source": [
    "2. Write a Python program to reverse a word after accepting the input from the user.\n",
    "        SAMPLE: \n",
    "        Input word: ineuron\n",
    "        Output: norueni"
   ]
  },
  {
   "cell_type": "code",
   "execution_count": 9,
   "id": "507164d8",
   "metadata": {},
   "outputs": [
    {
     "name": "stdout",
     "output_type": "stream",
     "text": [
      "Enter a word of your choice:iNeurons\n",
      "snorueNi\n"
     ]
    }
   ],
   "source": [
    "user_input = input(\"Enter a word of your choice:\")\n",
    "reversed_string = user_input[::-1]\n",
    "\n",
    "print(reversed_string)"
   ]
  },
  {
   "cell_type": "code",
   "execution_count": null,
   "id": "23bc51bd",
   "metadata": {},
   "outputs": [],
   "source": []
  }
 ],
 "metadata": {
  "kernelspec": {
   "display_name": "Python 3",
   "language": "python",
   "name": "python3"
  },
  "language_info": {
   "codemirror_mode": {
    "name": "ipython",
    "version": 3
   },
   "file_extension": ".py",
   "mimetype": "text/x-python",
   "name": "python",
   "nbconvert_exporter": "python",
   "pygments_lexer": "ipython3",
   "version": "3.9.4"
  }
 },
 "nbformat": 4,
 "nbformat_minor": 5
}
